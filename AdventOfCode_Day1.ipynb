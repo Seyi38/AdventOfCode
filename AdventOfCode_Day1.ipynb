{
 "cells": [
  {
   "cell_type": "code",
   "execution_count": 16,
   "id": "103e8af3",
   "metadata": {},
   "outputs": [],
   "source": [
    "import pandas as pd"
   ]
  },
  {
   "cell_type": "code",
   "execution_count": 99,
   "id": "4a03b884",
   "metadata": {},
   "outputs": [],
   "source": [
    "#Advent of code Day 1"
   ]
  },
  {
   "cell_type": "markdown",
   "id": "f40c63a9",
   "metadata": {},
   "source": [
    "## --- Day 1: Sonar Sweep ---\n",
    "You're minding your own business on a ship at sea when the overboard alarm goes off! You rush to see if you can help. Apparently, one of the Elves tripped and accidentally sent the sleigh keys flying into the ocean!\n",
    "\n",
    "Before you know it, you're inside a submarine the Elves keep ready for situations like this. It's covered in Christmas lights (because of course it is), and it even has an experimental antenna that should be able to track the keys if you can boost its signal strength high enough; there's a little meter that indicates the antenna's signal strength by displaying 0-50 stars.\n",
    "\n",
    "Your instincts tell you that in order to save Christmas, you'll need to get all fifty stars by December 25th.\n",
    "\n",
    "Collect stars by solving puzzles. Two puzzles will be made available on each day in the Advent calendar; the second puzzle is unlocked when you complete the first. Each puzzle grants one star. Good luck!\n",
    "\n",
    "As the submarine drops below the surface of the ocean, it automatically performs a sonar sweep of the nearby sea floor. On a small screen, the sonar sweep report (your puzzle input) appears: each line is a measurement of the sea floor depth as the sweep looks further and further away from the submarine.\n",
    "For example, suppose you had the following report:\n",
    "\n",
    "199\\\n",
    "200\\\n",
    "208\\\n",
    "210\\\n",
    "200\\\n",
    "207\\\n",
    "240\\\n",
    "269\\\n",
    "260\\\n",
    "263\\\n",
    "This report indicates that, scanning outward from the submarine, the sonar sweep found depths of 199, 200, 208, 210, and so on.\n",
    "\n",
    "The first order of business is to figure out how quickly the depth increases, just so you know what you're dealing with - you never know if the keys will get carried into deeper water by an ocean current or a fish or something.\n",
    "\n",
    "To do this, count the number of times a depth measurement increases from the previous measurement. (There is no measurement before the first measurement.) In the example above, the changes are as follows:\n",
    "\n",
    "199 (N/A - no previous measurement)\\\n",
    "200 (increased)\\\n",
    "208 (increased)\\\n",
    "210 (increased)\\\n",
    "200 (decreased)\\\n",
    "207 (increased)\\\n",
    "240 (increased)\\\n",
    "269 (increased)\\\n",
    "260 (decreased)\\\n",
    "263 (increased)\\\n",
    "In this example, there are 7 measurements that are larger than the previous measurement."
   ]
  },
  {
   "cell_type": "code",
   "execution_count": null,
   "id": "a7092315",
   "metadata": {},
   "outputs": [],
   "source": [
    "#PUZZLE 1\n",
    "#How many measurements are larger than the previous measurement?"
   ]
  },
  {
   "cell_type": "code",
   "execution_count": 175,
   "id": "97827193",
   "metadata": {},
   "outputs": [],
   "source": [
    "#Importing the submarine input as a pandas df\n",
    "sub_input = \"/Users/seyi/Documents/Jupyter notebooks/Advent of Code/input_day1.txt\"\n",
    "#Reading the Dataset to Pandas DataFrame\n",
    "sub_df=pd.read_csv(sub_input,header=None)"
   ]
  },
  {
   "cell_type": "code",
   "execution_count": 176,
   "id": "3dc08dc4",
   "metadata": {
    "scrolled": true
   },
   "outputs": [
    {
     "data": {
      "text/html": [
       "<div>\n",
       "<style scoped>\n",
       "    .dataframe tbody tr th:only-of-type {\n",
       "        vertical-align: middle;\n",
       "    }\n",
       "\n",
       "    .dataframe tbody tr th {\n",
       "        vertical-align: top;\n",
       "    }\n",
       "\n",
       "    .dataframe thead th {\n",
       "        text-align: right;\n",
       "    }\n",
       "</style>\n",
       "<table border=\"1\" class=\"dataframe\">\n",
       "  <thead>\n",
       "    <tr style=\"text-align: right;\">\n",
       "      <th></th>\n",
       "      <th>input</th>\n",
       "    </tr>\n",
       "  </thead>\n",
       "  <tbody>\n",
       "    <tr>\n",
       "      <th>0</th>\n",
       "      <td>104</td>\n",
       "    </tr>\n",
       "    <tr>\n",
       "      <th>1</th>\n",
       "      <td>105</td>\n",
       "    </tr>\n",
       "    <tr>\n",
       "      <th>2</th>\n",
       "      <td>109</td>\n",
       "    </tr>\n",
       "    <tr>\n",
       "      <th>3</th>\n",
       "      <td>120</td>\n",
       "    </tr>\n",
       "    <tr>\n",
       "      <th>4</th>\n",
       "      <td>124</td>\n",
       "    </tr>\n",
       "  </tbody>\n",
       "</table>\n",
       "</div>"
      ],
      "text/plain": [
       "   input\n",
       "0    104\n",
       "1    105\n",
       "2    109\n",
       "3    120\n",
       "4    124"
      ]
     },
     "execution_count": 176,
     "metadata": {},
     "output_type": "execute_result"
    }
   ],
   "source": [
    "#Create column header\n",
    "sub_df.columns=['input']\n",
    "sub_df.head()"
   ]
  },
  {
   "cell_type": "code",
   "execution_count": 177,
   "id": "593fae17",
   "metadata": {},
   "outputs": [
    {
     "data": {
      "text/plain": [
       "0     NaN\n",
       "1     1.0\n",
       "2     4.0\n",
       "3    11.0\n",
       "4     4.0\n",
       "Name: input, dtype: float64"
      ]
     },
     "execution_count": 177,
     "metadata": {},
     "output_type": "execute_result"
    }
   ],
   "source": [
    "#Get the difference between each preceding rows\n",
    "sub_diff = sub_df.input.diff()\n",
    "sub_diff.head()"
   ]
  },
  {
   "cell_type": "code",
   "execution_count": 178,
   "id": "6dccbc89",
   "metadata": {},
   "outputs": [
    {
     "name": "stdout",
     "output_type": "stream",
     "text": [
      "1557\n"
     ]
    }
   ],
   "source": [
    "#Get the count of numbers with differences greater than 0 to see the number of measurement larger than the previous\n",
    "count = 0\n",
    "for diff in sub_diff:\n",
    "    if diff > 0:\n",
    "        count += 1\n",
    "print(count)"
   ]
  },
  {
   "cell_type": "code",
   "execution_count": 172,
   "id": "3889fa65",
   "metadata": {},
   "outputs": [
    {
     "name": "stdout",
     "output_type": "stream",
     "text": [
      "Puzzle Answer is 1557\n"
     ]
    }
   ],
   "source": [
    "print(f\"Puzzle Answer is {count}\")"
   ]
  },
  {
   "cell_type": "markdown",
   "id": "c5470101",
   "metadata": {},
   "source": [
    "## --- Part Two ---\n",
    "Considering every single measurement isn't as useful as you expected: there's just too much noise in the data.\n",
    "\n",
    "Instead, consider sums of a three-measurement sliding window. Again considering the above example:\n",
    "\n",
    "199  A   \\   \n",
    "200  A B  \\  \n",
    "208  A B C \\ \n",
    "210    B C D\\\n",
    "200  E   C D\\\n",
    "207  E F   D\\\n",
    "240  E F G  \\\n",
    "269    F G H\\\n",
    "260      G H\\\n",
    "263        H\\\n",
    "Start by comparing the first and second three-measurement windows. The measurements in the first window are marked A (199, 200, 208); their sum is 199 + 200 + 208 = 607. The second window is marked B (200, 208, 210); its sum is 618. The sum of measurements in the second window is larger than the sum of the first, so this first comparison increased.\n",
    "\n",
    "Your goal now is to count the number of times the sum of measurements in this sliding window increases from the previous sum. So, compare A with B, then compare B with C, then C with D, and so on. Stop when there aren't enough measurements left to create a new three-measurement sum.\n",
    "\n",
    "In the above example, the sum of each three-measurement window is as follows:\n",
    "\n",
    "A: 607 (N/A - no previous sum)\\\n",
    "B: 618 (increased)\\\n",
    "C: 618 (no change)\\\n",
    "D: 617 (decreased)\\\n",
    "E: 647 (increased)\\\n",
    "F: 716 (increased)\\\n",
    "G: 769 (increased)\\\n",
    "H: 792 (increased)\\\n",
    "In this example, there are 5 sums that are larger than the previous sum.\n",
    "\n"
   ]
  },
  {
   "cell_type": "code",
   "execution_count": 106,
   "id": "dc97e738",
   "metadata": {},
   "outputs": [],
   "source": [
    "#Puzzle 2\n",
    "#Consider sums of a three-measurement sliding window. How many sums are larger than the previous sum?"
   ]
  },
  {
   "cell_type": "code",
   "execution_count": 179,
   "id": "b1bac254",
   "metadata": {},
   "outputs": [
    {
     "data": {
      "text/plain": [
       "array([[104],\n",
       "       [105],\n",
       "       [109],\n",
       "       [120],\n",
       "       [124]])"
      ]
     },
     "execution_count": 179,
     "metadata": {},
     "output_type": "execute_result"
    }
   ],
   "source": [
    "sub_np= sub_df.to_numpy()\n",
    "sub_np[0:5]"
   ]
  },
  {
   "cell_type": "code",
   "execution_count": 180,
   "id": "4f153308",
   "metadata": {},
   "outputs": [],
   "source": [
    "#sums of a three-measurement sliding window\n",
    "counter = 0\n",
    "sub_sums = []\n",
    "for i in sub_np:\n",
    "    sums = sub_np[0+counter:3+counter].sum()\n",
    "    sub_sums.append(sums)\n",
    "    counter += 1 "
   ]
  },
  {
   "cell_type": "code",
   "execution_count": 181,
   "id": "a8adf911",
   "metadata": {},
   "outputs": [
    {
     "data": {
      "text/plain": [
       "[318, 334, 353, 357, 357]"
      ]
     },
     "execution_count": 181,
     "metadata": {},
     "output_type": "execute_result"
    }
   ],
   "source": [
    "sub_sums[0:5]"
   ]
  },
  {
   "cell_type": "code",
   "execution_count": 182,
   "id": "8a521a5d",
   "metadata": {},
   "outputs": [
    {
     "data": {
      "text/plain": [
       "array([16, 19,  4,  0, -3])"
      ]
     },
     "execution_count": 182,
     "metadata": {},
     "output_type": "execute_result"
    }
   ],
   "source": [
    "import numpy as np\n",
    "#Get the difference between each preceding rows\n",
    "sub_sums_diff = np.diff(sub_sums)\n",
    "sub_sums_diff[0:5]"
   ]
  },
  {
   "cell_type": "code",
   "execution_count": 184,
   "id": "91f8ae7b",
   "metadata": {},
   "outputs": [],
   "source": [
    "#Get the count of numbers with differences greater than 0 to see the number of measurement larger than the previous\n",
    "swindow_count = 0\n",
    "for diffs in sub_sums_diff:\n",
    "    if diffs > 0:\n",
    "        swindow_count += 1"
   ]
  },
  {
   "cell_type": "code",
   "execution_count": 185,
   "id": "2d364bb5",
   "metadata": {},
   "outputs": [
    {
     "name": "stdout",
     "output_type": "stream",
     "text": [
      "Puzzle Answer is 1608\n"
     ]
    }
   ],
   "source": [
    "print(f\"Puzzle Answer is {swindow_count}\")"
   ]
  }
 ],
 "metadata": {
  "kernelspec": {
   "display_name": "Python 3",
   "language": "python",
   "name": "python3"
  },
  "language_info": {
   "codemirror_mode": {
    "name": "ipython",
    "version": 3
   },
   "file_extension": ".py",
   "mimetype": "text/x-python",
   "name": "python",
   "nbconvert_exporter": "python",
   "pygments_lexer": "ipython3",
   "version": "3.8.8"
  }
 },
 "nbformat": 4,
 "nbformat_minor": 5
}
