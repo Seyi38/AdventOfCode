{
 "cells": [
  {
   "cell_type": "code",
   "execution_count": 5,
   "id": "3e77e6f8",
   "metadata": {},
   "outputs": [],
   "source": [
    "import pandas as pd"
   ]
  },
  {
   "cell_type": "code",
   "execution_count": 2,
   "id": "e54c6e54",
   "metadata": {},
   "outputs": [],
   "source": [
    "#Advent of code Day 2"
   ]
  },
  {
   "cell_type": "markdown",
   "id": "be41cff9",
   "metadata": {},
   "source": [
    "## --- Day 2: Dive! ---\n",
    "Now, you need to figure out how to pilot this thing.\n",
    "\n",
    "It seems like the submarine can take a series of commands like forward 1, down 2, or up 3:\n",
    "\n",
    "forward X increases the horizontal position by X units.\\\n",
    "down X increases the depth by X units.\\\n",
    "up X decreases the depth by X units.\\\n",
    "Note that since you're on a submarine, down and up affect your depth, and so they have the opposite result of what you might expect.\n",
    "\n",
    "The submarine seems to already have a planned course (your puzzle input). You should probably figure out where it's going. For example:\n",
    "\n",
    "forward 5\\\n",
    "down 5\\\n",
    "forward 8\\\n",
    "up 3\\\n",
    "down 8\\\n",
    "forward 2\\\n",
    "\n",
    "Your horizontal position and depth both start at 0. The steps above would then modify them as follows:\n",
    "\n",
    "forward 5 adds 5 to your horizontal position, a total of 5.\\\n",
    "down 5 adds 5 to your depth, resulting in a value of 5.\\\n",
    "forward 8 adds 8 to your horizontal position, a total of 13.\\\n",
    "up 3 decreases your depth by 3, resulting in a value of 2.\\\n",
    "down 8 adds 8 to your depth, resulting in a value of 10.\\\n",
    "forward 2 adds 2 to your horizontal position, a total of 15.\\\n",
    "After following these instructions, you would have a horizontal position of 15 and a depth of 10. (Multiplying these together produces 150.)\n"
   ]
  },
  {
   "cell_type": "code",
   "execution_count": 4,
   "id": "a8e3d89f",
   "metadata": {},
   "outputs": [],
   "source": [
    "#Calculate the horizontal position and depth you would have after following the planned course. \n",
    "#What do you get if you multiply your final horizontal position by your final depth?"
   ]
  },
  {
   "cell_type": "code",
   "execution_count": 192,
   "id": "3561cbaf",
   "metadata": {},
   "outputs": [],
   "source": [
    "#Importing the sub marine input as a pandas df\n",
    "sub_input = \"/Users/seyi/Documents/Jupyter notebooks/Advent of Code/input_day2.txt\"\n",
    "#Reading the Dataset to Pandas DataFrame\n",
    "sub_df=pd.read_csv(sub_input,header=None)"
   ]
  },
  {
   "cell_type": "code",
   "execution_count": 193,
   "id": "2468887c",
   "metadata": {},
   "outputs": [
    {
     "data": {
      "text/html": [
       "<div>\n",
       "<style scoped>\n",
       "    .dataframe tbody tr th:only-of-type {\n",
       "        vertical-align: middle;\n",
       "    }\n",
       "\n",
       "    .dataframe tbody tr th {\n",
       "        vertical-align: top;\n",
       "    }\n",
       "\n",
       "    .dataframe thead th {\n",
       "        text-align: right;\n",
       "    }\n",
       "</style>\n",
       "<table border=\"1\" class=\"dataframe\">\n",
       "  <thead>\n",
       "    <tr style=\"text-align: right;\">\n",
       "      <th></th>\n",
       "      <th>0</th>\n",
       "    </tr>\n",
       "  </thead>\n",
       "  <tbody>\n",
       "    <tr>\n",
       "      <th>0</th>\n",
       "      <td>forward 9</td>\n",
       "    </tr>\n",
       "    <tr>\n",
       "      <th>1</th>\n",
       "      <td>forward 7</td>\n",
       "    </tr>\n",
       "    <tr>\n",
       "      <th>2</th>\n",
       "      <td>forward 4</td>\n",
       "    </tr>\n",
       "    <tr>\n",
       "      <th>3</th>\n",
       "      <td>down 7</td>\n",
       "    </tr>\n",
       "    <tr>\n",
       "      <th>4</th>\n",
       "      <td>forward 5</td>\n",
       "    </tr>\n",
       "  </tbody>\n",
       "</table>\n",
       "</div>"
      ],
      "text/plain": [
       "           0\n",
       "0  forward 9\n",
       "1  forward 7\n",
       "2  forward 4\n",
       "3     down 7\n",
       "4  forward 5"
      ]
     },
     "execution_count": 193,
     "metadata": {},
     "output_type": "execute_result"
    }
   ],
   "source": [
    "sub_df.head()"
   ]
  },
  {
   "cell_type": "code",
   "execution_count": 194,
   "id": "6a29ee6d",
   "metadata": {},
   "outputs": [
    {
     "data": {
      "text/html": [
       "<div>\n",
       "<style scoped>\n",
       "    .dataframe tbody tr th:only-of-type {\n",
       "        vertical-align: middle;\n",
       "    }\n",
       "\n",
       "    .dataframe tbody tr th {\n",
       "        vertical-align: top;\n",
       "    }\n",
       "\n",
       "    .dataframe thead th {\n",
       "        text-align: right;\n",
       "    }\n",
       "</style>\n",
       "<table border=\"1\" class=\"dataframe\">\n",
       "  <thead>\n",
       "    <tr style=\"text-align: right;\">\n",
       "      <th></th>\n",
       "      <th>commands</th>\n",
       "    </tr>\n",
       "  </thead>\n",
       "  <tbody>\n",
       "    <tr>\n",
       "      <th>0</th>\n",
       "      <td>forward 9</td>\n",
       "    </tr>\n",
       "    <tr>\n",
       "      <th>1</th>\n",
       "      <td>forward 7</td>\n",
       "    </tr>\n",
       "    <tr>\n",
       "      <th>2</th>\n",
       "      <td>forward 4</td>\n",
       "    </tr>\n",
       "    <tr>\n",
       "      <th>3</th>\n",
       "      <td>down 7</td>\n",
       "    </tr>\n",
       "    <tr>\n",
       "      <th>4</th>\n",
       "      <td>forward 5</td>\n",
       "    </tr>\n",
       "  </tbody>\n",
       "</table>\n",
       "</div>"
      ],
      "text/plain": [
       "    commands\n",
       "0  forward 9\n",
       "1  forward 7\n",
       "2  forward 4\n",
       "3     down 7\n",
       "4  forward 5"
      ]
     },
     "execution_count": 194,
     "metadata": {},
     "output_type": "execute_result"
    }
   ],
   "source": [
    "#Create column header\n",
    "sub_df.columns=['commands']\n",
    "sub_df.head()"
   ]
  },
  {
   "cell_type": "code",
   "execution_count": 195,
   "id": "963cfc55",
   "metadata": {},
   "outputs": [],
   "source": [
    "#Split the columns into inputs and value\n",
    "sub_df[['inputs', 'value']] = sub_df['commands'].str.split(' ', 1, expand=True)"
   ]
  },
  {
   "cell_type": "code",
   "execution_count": 196,
   "id": "55707ba3",
   "metadata": {},
   "outputs": [
    {
     "data": {
      "text/html": [
       "<div>\n",
       "<style scoped>\n",
       "    .dataframe tbody tr th:only-of-type {\n",
       "        vertical-align: middle;\n",
       "    }\n",
       "\n",
       "    .dataframe tbody tr th {\n",
       "        vertical-align: top;\n",
       "    }\n",
       "\n",
       "    .dataframe thead th {\n",
       "        text-align: right;\n",
       "    }\n",
       "</style>\n",
       "<table border=\"1\" class=\"dataframe\">\n",
       "  <thead>\n",
       "    <tr style=\"text-align: right;\">\n",
       "      <th></th>\n",
       "      <th>inputs</th>\n",
       "      <th>value</th>\n",
       "    </tr>\n",
       "  </thead>\n",
       "  <tbody>\n",
       "    <tr>\n",
       "      <th>0</th>\n",
       "      <td>forward</td>\n",
       "      <td>9</td>\n",
       "    </tr>\n",
       "    <tr>\n",
       "      <th>1</th>\n",
       "      <td>forward</td>\n",
       "      <td>7</td>\n",
       "    </tr>\n",
       "    <tr>\n",
       "      <th>2</th>\n",
       "      <td>forward</td>\n",
       "      <td>4</td>\n",
       "    </tr>\n",
       "    <tr>\n",
       "      <th>3</th>\n",
       "      <td>down</td>\n",
       "      <td>7</td>\n",
       "    </tr>\n",
       "    <tr>\n",
       "      <th>4</th>\n",
       "      <td>forward</td>\n",
       "      <td>5</td>\n",
       "    </tr>\n",
       "    <tr>\n",
       "      <th>...</th>\n",
       "      <td>...</td>\n",
       "      <td>...</td>\n",
       "    </tr>\n",
       "    <tr>\n",
       "      <th>995</th>\n",
       "      <td>up</td>\n",
       "      <td>2</td>\n",
       "    </tr>\n",
       "    <tr>\n",
       "      <th>996</th>\n",
       "      <td>forward</td>\n",
       "      <td>8</td>\n",
       "    </tr>\n",
       "    <tr>\n",
       "      <th>997</th>\n",
       "      <td>down</td>\n",
       "      <td>2</td>\n",
       "    </tr>\n",
       "    <tr>\n",
       "      <th>998</th>\n",
       "      <td>down</td>\n",
       "      <td>7</td>\n",
       "    </tr>\n",
       "    <tr>\n",
       "      <th>999</th>\n",
       "      <td>forward</td>\n",
       "      <td>1</td>\n",
       "    </tr>\n",
       "  </tbody>\n",
       "</table>\n",
       "<p>1000 rows × 2 columns</p>\n",
       "</div>"
      ],
      "text/plain": [
       "      inputs value\n",
       "0    forward     9\n",
       "1    forward     7\n",
       "2    forward     4\n",
       "3       down     7\n",
       "4    forward     5\n",
       "..       ...   ...\n",
       "995       up     2\n",
       "996  forward     8\n",
       "997     down     2\n",
       "998     down     7\n",
       "999  forward     1\n",
       "\n",
       "[1000 rows x 2 columns]"
      ]
     },
     "execution_count": 196,
     "metadata": {},
     "output_type": "execute_result"
    }
   ],
   "source": [
    "#Drop the initial inputs column\n",
    "sub_df = sub_df[['inputs', 'value']]\n",
    "sub_df"
   ]
  },
  {
   "cell_type": "code",
   "execution_count": 197,
   "id": "27e92a83",
   "metadata": {},
   "outputs": [],
   "source": [
    "#Seperate the different sub inputs\n",
    "forward_df = sub_df.loc[sub_df.inputs == 'forward']\n",
    "up_df = sub_df.loc[sub_df.inputs == 'up']\n",
    "down_df = sub_df.loc[sub_df.inputs == 'down']"
   ]
  },
  {
   "cell_type": "code",
   "execution_count": 198,
   "id": "d409d767",
   "metadata": {},
   "outputs": [
    {
     "data": {
      "text/html": [
       "<div>\n",
       "<style scoped>\n",
       "    .dataframe tbody tr th:only-of-type {\n",
       "        vertical-align: middle;\n",
       "    }\n",
       "\n",
       "    .dataframe tbody tr th {\n",
       "        vertical-align: top;\n",
       "    }\n",
       "\n",
       "    .dataframe thead th {\n",
       "        text-align: right;\n",
       "    }\n",
       "</style>\n",
       "<table border=\"1\" class=\"dataframe\">\n",
       "  <thead>\n",
       "    <tr style=\"text-align: right;\">\n",
       "      <th></th>\n",
       "      <th>inputs</th>\n",
       "      <th>value</th>\n",
       "    </tr>\n",
       "  </thead>\n",
       "  <tbody>\n",
       "    <tr>\n",
       "      <th>0</th>\n",
       "      <td>forward</td>\n",
       "      <td>9</td>\n",
       "    </tr>\n",
       "    <tr>\n",
       "      <th>1</th>\n",
       "      <td>forward</td>\n",
       "      <td>7</td>\n",
       "    </tr>\n",
       "    <tr>\n",
       "      <th>2</th>\n",
       "      <td>forward</td>\n",
       "      <td>4</td>\n",
       "    </tr>\n",
       "    <tr>\n",
       "      <th>4</th>\n",
       "      <td>forward</td>\n",
       "      <td>5</td>\n",
       "    </tr>\n",
       "    <tr>\n",
       "      <th>7</th>\n",
       "      <td>forward</td>\n",
       "      <td>1</td>\n",
       "    </tr>\n",
       "  </tbody>\n",
       "</table>\n",
       "</div>"
      ],
      "text/plain": [
       "    inputs value\n",
       "0  forward     9\n",
       "1  forward     7\n",
       "2  forward     4\n",
       "4  forward     5\n",
       "7  forward     1"
      ]
     },
     "execution_count": 198,
     "metadata": {},
     "output_type": "execute_result"
    }
   ],
   "source": [
    "forward_df.head()"
   ]
  },
  {
   "cell_type": "code",
   "execution_count": 199,
   "id": "65aada21",
   "metadata": {},
   "outputs": [
    {
     "name": "stderr",
     "output_type": "stream",
     "text": [
      "<ipython-input-199-1cf4a655f53b>:2: SettingWithCopyWarning: \n",
      "A value is trying to be set on a copy of a slice from a DataFrame.\n",
      "Try using .loc[row_indexer,col_indexer] = value instead\n",
      "\n",
      "See the caveats in the documentation: https://pandas.pydata.org/pandas-docs/stable/user_guide/indexing.html#returning-a-view-versus-a-copy\n",
      "  forward_df['value'] = forward_df.value.astype(int)\n",
      "<ipython-input-199-1cf4a655f53b>:3: SettingWithCopyWarning: \n",
      "A value is trying to be set on a copy of a slice from a DataFrame.\n",
      "Try using .loc[row_indexer,col_indexer] = value instead\n",
      "\n",
      "See the caveats in the documentation: https://pandas.pydata.org/pandas-docs/stable/user_guide/indexing.html#returning-a-view-versus-a-copy\n",
      "  up_df['value'] = up_df.value.astype(int)\n",
      "<ipython-input-199-1cf4a655f53b>:4: SettingWithCopyWarning: \n",
      "A value is trying to be set on a copy of a slice from a DataFrame.\n",
      "Try using .loc[row_indexer,col_indexer] = value instead\n",
      "\n",
      "See the caveats in the documentation: https://pandas.pydata.org/pandas-docs/stable/user_guide/indexing.html#returning-a-view-versus-a-copy\n",
      "  down_df['value'] = down_df.value.astype(int)\n"
     ]
    }
   ],
   "source": [
    "#Converting the values to interger type\n",
    "forward_df['value'] = forward_df.value.astype(int)\n",
    "up_df['value'] = up_df.value.astype(int)\n",
    "down_df['value'] = down_df.value.astype(int)"
   ]
  },
  {
   "cell_type": "code",
   "execution_count": 200,
   "id": "6ad9d1a8",
   "metadata": {},
   "outputs": [
    {
     "name": "stdout",
     "output_type": "stream",
     "text": [
      "<class 'pandas.core.frame.DataFrame'>\n",
      "Int64Index: 395 entries, 3 to 998\n",
      "Data columns (total 2 columns):\n",
      " #   Column  Non-Null Count  Dtype \n",
      "---  ------  --------------  ----- \n",
      " 0   inputs  395 non-null    object\n",
      " 1   value   395 non-null    int64 \n",
      "dtypes: int64(1), object(1)\n",
      "memory usage: 9.3+ KB\n"
     ]
    }
   ],
   "source": [
    "down_df.info()"
   ]
  },
  {
   "cell_type": "code",
   "execution_count": 201,
   "id": "53b48616",
   "metadata": {},
   "outputs": [],
   "source": [
    "#Getting the sums of all inputs\n",
    "forward_sum = forward_df['value'].sum()\n",
    "down_sum = down_df['value'].sum()\n",
    "up_sum = up_df['value'].sum()"
   ]
  },
  {
   "cell_type": "code",
   "execution_count": 202,
   "id": "1af0a878",
   "metadata": {},
   "outputs": [
    {
     "data": {
      "text/plain": [
       "2052"
      ]
     },
     "execution_count": 202,
     "metadata": {},
     "output_type": "execute_result"
    }
   ],
   "source": [
    "#Horizontal Position\n",
    "horizontal_pos = forward_sum\n",
    "horizontal_pos"
   ]
  },
  {
   "cell_type": "code",
   "execution_count": 203,
   "id": "9da6105b",
   "metadata": {},
   "outputs": [
    {
     "data": {
      "text/plain": [
       "1032"
      ]
     },
     "execution_count": 203,
     "metadata": {},
     "output_type": "execute_result"
    }
   ],
   "source": [
    "#Calculating the depth\n",
    "depth = down_sum - up_sum\n",
    "depth"
   ]
  },
  {
   "cell_type": "code",
   "execution_count": 204,
   "id": "f0c81d4e",
   "metadata": {},
   "outputs": [
    {
     "name": "stdout",
     "output_type": "stream",
     "text": [
      "Horizontal position and depth after following the planned course is 2117664\n"
     ]
    }
   ],
   "source": [
    "#Puzzle Answer\n",
    "print(f\"Horizontal position and depth after following the planned course is {horizontal_pos * depth}\")"
   ]
  },
  {
   "cell_type": "code",
   "execution_count": null,
   "id": "57b9601d",
   "metadata": {},
   "outputs": [],
   "source": []
  },
  {
   "cell_type": "markdown",
   "id": "c373d0ab",
   "metadata": {},
   "source": [
    "### --- Part Two ---\n",
    "Based on your calculations, the planned course doesn't seem to make any sense. You find the submarine manual and discover that the process is actually slightly more complicated.\n",
    "\n",
    "In addition to horizontal position and depth, you'll also need to track a third value, aim, which also starts at 0. The commands also mean something entirely different than you first thought:\n",
    "\n",
    "down X increases your aim by X units.\\\n",
    "up X decreases your aim by X units.\\\n",
    "forward X does two things:\\\n",
    "It increases your horizontal position by X units.\\\n",
    "It increases your depth by your aim multiplied by X.\\\n",
    "Again note that since you're on a submarine, down and up do the opposite of what you might expect: \"down\" means aiming in the positive direction.\n",
    "\n",
    "Now, the above example does something different:\n",
    "\n",
    "forward 5 adds 5 to your horizontal position, a total of 5. Because your aim is 0, your depth does not change.\\\n",
    "down 5 adds 5 to your aim, resulting in a value of 5.\\\n",
    "forward 8 adds 8 to your horizontal position, a total of 13. Because your aim is 5, your depth increases by 8*5=40.\\\n",
    "up 3 decreases your aim by 3, resulting in a value of 2.\\\n",
    "down 8 adds 8 to your aim, resulting in a value of 10.\\\n",
    "forward 2 adds 2 to your horizontal position, a total of 15. Because your aim is 10, your depth increases by 2*10=20 to a total of 60.\\\n",
    "After following these new instructions, you would have a horizontal position of 15 and a depth of 60. (Multiplying these produces 900.)"
   ]
  },
  {
   "cell_type": "code",
   "execution_count": 65,
   "id": "1417e6b7",
   "metadata": {},
   "outputs": [],
   "source": [
    "#PUZZLE \n",
    "#Using this new interpretation of the commands, calculate the horizontal position \n",
    "#and depth you would have after following the planned course. \n",
    "#What do you get if you multiply your final horizontal position by your final depth?"
   ]
  },
  {
   "cell_type": "code",
   "execution_count": 205,
   "id": "bf8b164a",
   "metadata": {},
   "outputs": [
    {
     "data": {
      "text/html": [
       "<div>\n",
       "<style scoped>\n",
       "    .dataframe tbody tr th:only-of-type {\n",
       "        vertical-align: middle;\n",
       "    }\n",
       "\n",
       "    .dataframe tbody tr th {\n",
       "        vertical-align: top;\n",
       "    }\n",
       "\n",
       "    .dataframe thead th {\n",
       "        text-align: right;\n",
       "    }\n",
       "</style>\n",
       "<table border=\"1\" class=\"dataframe\">\n",
       "  <thead>\n",
       "    <tr style=\"text-align: right;\">\n",
       "      <th></th>\n",
       "      <th>inputs</th>\n",
       "      <th>value</th>\n",
       "    </tr>\n",
       "  </thead>\n",
       "  <tbody>\n",
       "    <tr>\n",
       "      <th>0</th>\n",
       "      <td>forward</td>\n",
       "      <td>9</td>\n",
       "    </tr>\n",
       "    <tr>\n",
       "      <th>1</th>\n",
       "      <td>forward</td>\n",
       "      <td>7</td>\n",
       "    </tr>\n",
       "    <tr>\n",
       "      <th>2</th>\n",
       "      <td>forward</td>\n",
       "      <td>4</td>\n",
       "    </tr>\n",
       "    <tr>\n",
       "      <th>3</th>\n",
       "      <td>down</td>\n",
       "      <td>7</td>\n",
       "    </tr>\n",
       "    <tr>\n",
       "      <th>4</th>\n",
       "      <td>forward</td>\n",
       "      <td>5</td>\n",
       "    </tr>\n",
       "  </tbody>\n",
       "</table>\n",
       "</div>"
      ],
      "text/plain": [
       "    inputs value\n",
       "0  forward     9\n",
       "1  forward     7\n",
       "2  forward     4\n",
       "3     down     7\n",
       "4  forward     5"
      ]
     },
     "execution_count": 205,
     "metadata": {},
     "output_type": "execute_result"
    }
   ],
   "source": [
    "sub_df.head()"
   ]
  },
  {
   "cell_type": "code",
   "execution_count": 206,
   "id": "afcf56e4",
   "metadata": {},
   "outputs": [
    {
     "name": "stdout",
     "output_type": "stream",
     "text": [
      "<class 'pandas.core.frame.DataFrame'>\n",
      "RangeIndex: 1000 entries, 0 to 999\n",
      "Data columns (total 2 columns):\n",
      " #   Column  Non-Null Count  Dtype \n",
      "---  ------  --------------  ----- \n",
      " 0   inputs  1000 non-null   object\n",
      " 1   value   1000 non-null   object\n",
      "dtypes: object(2)\n",
      "memory usage: 15.8+ KB\n"
     ]
    }
   ],
   "source": [
    "sub_df.info()"
   ]
  },
  {
   "cell_type": "code",
   "execution_count": 209,
   "id": "b3ef4e4f",
   "metadata": {},
   "outputs": [
    {
     "data": {
      "text/plain": [
       "array([['forward', 9],\n",
       "       ['forward', 7],\n",
       "       ['forward', 4],\n",
       "       ['down', 7],\n",
       "       ['forward', 5]], dtype=object)"
      ]
     },
     "execution_count": 209,
     "metadata": {},
     "output_type": "execute_result"
    }
   ],
   "source": [
    "#create new df\n",
    "sub_df2 = sub_df\n",
    "#convert value from object type to in\n",
    "sub_df2['value'] = sub_df.value.astype(int)\n",
    "#Convert pd to numpy array\n",
    "sub_np = sub_df2.to_numpy()\n",
    "sub_np[0:5]"
   ]
  },
  {
   "cell_type": "code",
   "execution_count": 210,
   "id": "f83a49ff",
   "metadata": {},
   "outputs": [
    {
     "name": "stdout",
     "output_type": "stream",
     "text": [
      "2052 1032 1010437\n"
     ]
    }
   ],
   "source": [
    "#Loop through the array of sub inputs to get our final horizontal position, aim and depth\n",
    "horiz_pos = 0\n",
    "depth = 0\n",
    "aim = 0\n",
    "for inp,val in sub_np:\n",
    "    #print(f,v)\n",
    "    if inp == \"forward\":\n",
    "        horiz_pos += val\n",
    "        depth += (aim * val)\n",
    "    if inp == 'down':\n",
    "        aim += val\n",
    "    if inp == 'up':\n",
    "        aim -= val\n",
    "print(horiz_pos, aim, depth)"
   ]
  },
  {
   "cell_type": "code",
   "execution_count": 213,
   "id": "e05e63ac",
   "metadata": {},
   "outputs": [
    {
     "name": "stdout",
     "output_type": "stream",
     "text": [
      "final horizontal position by final depth 2073416724\n"
     ]
    }
   ],
   "source": [
    "print(f\"final horizontal position by final depth {horiz_pos * depth}\")"
   ]
  }
 ],
 "metadata": {
  "kernelspec": {
   "display_name": "Python 3",
   "language": "python",
   "name": "python3"
  },
  "language_info": {
   "codemirror_mode": {
    "name": "ipython",
    "version": 3
   },
   "file_extension": ".py",
   "mimetype": "text/x-python",
   "name": "python",
   "nbconvert_exporter": "python",
   "pygments_lexer": "ipython3",
   "version": "3.8.8"
  }
 },
 "nbformat": 4,
 "nbformat_minor": 5
}
