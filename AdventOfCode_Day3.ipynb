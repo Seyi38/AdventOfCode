{
 "cells": [
  {
   "cell_type": "code",
   "execution_count": 35,
   "id": "2e1f2156",
   "metadata": {},
   "outputs": [],
   "source": [
    "import numpy as np"
   ]
  },
  {
   "cell_type": "code",
   "execution_count": 237,
   "id": "5cf27c98",
   "metadata": {},
   "outputs": [],
   "source": [
    "#Advent of Code"
   ]
  },
  {
   "cell_type": "markdown",
   "id": "f4509000",
   "metadata": {},
   "source": [
    "### --- Day 3: Binary Diagnostic ---\n",
    "The submarine has been making some odd creaking noises, so you ask it to produce a diagnostic report just in case.\n",
    "\n",
    "The diagnostic report (your puzzle input) consists of a list of binary numbers which, when decoded properly, can tell you many useful things about the conditions of the submarine. The first parameter to check is the power consumption.\n",
    "\n",
    "You need to use the binary numbers in the diagnostic report to generate two new binary numbers (called the gamma rate and the epsilon rate). The power consumption can then be found by multiplying the gamma rate by the epsilon rate.\n",
    "\n",
    "Each bit in the gamma rate can be determined by finding the most common bit in the corresponding position of all numbers in the diagnostic report. For example, given the following diagnostic report:\n",
    "\n",
    "00100\\\n",
    "11110\\\n",
    "10110\\\n",
    "10111\\\n",
    "10101\\\n",
    "01111\\\n",
    "00111\\\n",
    "11100\\\n",
    "10000\\\n",
    "11001\\\n",
    "00010\\\n",
    "01010\\\n",
    "Considering only the first bit of each number, there are five 0 bits and seven 1 bits. Since the most common bit is 1, the first bit of the gamma rate is 1.\n",
    "\n",
    "The most common second bit of the numbers in the diagnostic report is 0, so the second bit of the gamma rate is 0.\n",
    "\n",
    "The most common value of the third, fourth, and fifth bits are 1, 1, and 0, respectively, and so the final three bits of the gamma rate are 110.\n",
    "\n",
    "So, the gamma rate is the binary number 10110, or 22 in decimal.\n",
    "\n",
    "The epsilon rate is calculated in a similar way; rather than use the most common bit, the least common bit from each position is used. So, the epsilon rate is 01001, or 9 in decimal. Multiplying the gamma rate (22) by the epsilon rate (9) produces the power consumption, 198."
   ]
  },
  {
   "cell_type": "code",
   "execution_count": null,
   "id": "ace0cd5a",
   "metadata": {},
   "outputs": [],
   "source": [
    "#PUZZLE\n",
    "#Use the binary numbers in your diagnostic report to calculate the gamma rate and epsilon rate, then multiply them together. What is the power consumption of the submarine? \n",
    "#(Be sure to represent your answer in decimal, not binary.)"
   ]
  },
  {
   "cell_type": "code",
   "execution_count": 263,
   "id": "b02b0df5",
   "metadata": {},
   "outputs": [
    {
     "name": "stderr",
     "output_type": "stream",
     "text": [
      "<ipython-input-263-90061cf6ff87>:18: DeprecationWarning: `np.int` is a deprecated alias for the builtin `int`. To silence this warning, use `int` by itself. Doing this will not modify any behavior and is safe. When replacing `np.int`, you may wish to use e.g. `np.int64` or `np.int32` to specify the precision. If you wish to review your current use, check the release note link for additional information.\n",
      "Deprecated in NumPy 1.20; for more details and guidance: https://numpy.org/devdocs/release/1.20.0-notes.html#deprecations\n",
      "  first_bit = np.append(first_bit,line[0]).astype(np.int)\n",
      "<ipython-input-263-90061cf6ff87>:19: DeprecationWarning: `np.int` is a deprecated alias for the builtin `int`. To silence this warning, use `int` by itself. Doing this will not modify any behavior and is safe. When replacing `np.int`, you may wish to use e.g. `np.int64` or `np.int32` to specify the precision. If you wish to review your current use, check the release note link for additional information.\n",
      "Deprecated in NumPy 1.20; for more details and guidance: https://numpy.org/devdocs/release/1.20.0-notes.html#deprecations\n",
      "  second_bit= np.append(second_bit,line[1]).astype(np.int)\n",
      "<ipython-input-263-90061cf6ff87>:20: DeprecationWarning: `np.int` is a deprecated alias for the builtin `int`. To silence this warning, use `int` by itself. Doing this will not modify any behavior and is safe. When replacing `np.int`, you may wish to use e.g. `np.int64` or `np.int32` to specify the precision. If you wish to review your current use, check the release note link for additional information.\n",
      "Deprecated in NumPy 1.20; for more details and guidance: https://numpy.org/devdocs/release/1.20.0-notes.html#deprecations\n",
      "  third_bit= np.append(third_bit,line[2]).astype(np.int)\n",
      "<ipython-input-263-90061cf6ff87>:21: DeprecationWarning: `np.int` is a deprecated alias for the builtin `int`. To silence this warning, use `int` by itself. Doing this will not modify any behavior and is safe. When replacing `np.int`, you may wish to use e.g. `np.int64` or `np.int32` to specify the precision. If you wish to review your current use, check the release note link for additional information.\n",
      "Deprecated in NumPy 1.20; for more details and guidance: https://numpy.org/devdocs/release/1.20.0-notes.html#deprecations\n",
      "  fourth_bit= np.append(fourth_bit,line[3]).astype(np.int)\n",
      "<ipython-input-263-90061cf6ff87>:22: DeprecationWarning: `np.int` is a deprecated alias for the builtin `int`. To silence this warning, use `int` by itself. Doing this will not modify any behavior and is safe. When replacing `np.int`, you may wish to use e.g. `np.int64` or `np.int32` to specify the precision. If you wish to review your current use, check the release note link for additional information.\n",
      "Deprecated in NumPy 1.20; for more details and guidance: https://numpy.org/devdocs/release/1.20.0-notes.html#deprecations\n",
      "  fifth_bit= np.append(fifth_bit,line[4]).astype(np.int)\n",
      "<ipython-input-263-90061cf6ff87>:23: DeprecationWarning: `np.int` is a deprecated alias for the builtin `int`. To silence this warning, use `int` by itself. Doing this will not modify any behavior and is safe. When replacing `np.int`, you may wish to use e.g. `np.int64` or `np.int32` to specify the precision. If you wish to review your current use, check the release note link for additional information.\n",
      "Deprecated in NumPy 1.20; for more details and guidance: https://numpy.org/devdocs/release/1.20.0-notes.html#deprecations\n",
      "  sixth_bit= np.append(sixth_bit,line[5]).astype(np.int)\n",
      "<ipython-input-263-90061cf6ff87>:24: DeprecationWarning: `np.int` is a deprecated alias for the builtin `int`. To silence this warning, use `int` by itself. Doing this will not modify any behavior and is safe. When replacing `np.int`, you may wish to use e.g. `np.int64` or `np.int32` to specify the precision. If you wish to review your current use, check the release note link for additional information.\n",
      "Deprecated in NumPy 1.20; for more details and guidance: https://numpy.org/devdocs/release/1.20.0-notes.html#deprecations\n",
      "  seventh_bit= np.append(seventh_bit,line[6]).astype(np.int)\n",
      "<ipython-input-263-90061cf6ff87>:25: DeprecationWarning: `np.int` is a deprecated alias for the builtin `int`. To silence this warning, use `int` by itself. Doing this will not modify any behavior and is safe. When replacing `np.int`, you may wish to use e.g. `np.int64` or `np.int32` to specify the precision. If you wish to review your current use, check the release note link for additional information.\n",
      "Deprecated in NumPy 1.20; for more details and guidance: https://numpy.org/devdocs/release/1.20.0-notes.html#deprecations\n",
      "  eight_bit=np.append(eight_bit,line[7]).astype(np.int)\n",
      "<ipython-input-263-90061cf6ff87>:26: DeprecationWarning: `np.int` is a deprecated alias for the builtin `int`. To silence this warning, use `int` by itself. Doing this will not modify any behavior and is safe. When replacing `np.int`, you may wish to use e.g. `np.int64` or `np.int32` to specify the precision. If you wish to review your current use, check the release note link for additional information.\n",
      "Deprecated in NumPy 1.20; for more details and guidance: https://numpy.org/devdocs/release/1.20.0-notes.html#deprecations\n",
      "  ninth_bit=np.append(ninth_bit,line[8]).astype(np.int)\n",
      "<ipython-input-263-90061cf6ff87>:27: DeprecationWarning: `np.int` is a deprecated alias for the builtin `int`. To silence this warning, use `int` by itself. Doing this will not modify any behavior and is safe. When replacing `np.int`, you may wish to use e.g. `np.int64` or `np.int32` to specify the precision. If you wish to review your current use, check the release note link for additional information.\n",
      "Deprecated in NumPy 1.20; for more details and guidance: https://numpy.org/devdocs/release/1.20.0-notes.html#deprecations\n",
      "  tenth_bit=np.append(tenth_bit,line[9]).astype(np.int)\n",
      "<ipython-input-263-90061cf6ff87>:28: DeprecationWarning: `np.int` is a deprecated alias for the builtin `int`. To silence this warning, use `int` by itself. Doing this will not modify any behavior and is safe. When replacing `np.int`, you may wish to use e.g. `np.int64` or `np.int32` to specify the precision. If you wish to review your current use, check the release note link for additional information.\n",
      "Deprecated in NumPy 1.20; for more details and guidance: https://numpy.org/devdocs/release/1.20.0-notes.html#deprecations\n",
      "  eleventh_bit=np.append(eleventh_bit,line[10]).astype(np.int)\n",
      "<ipython-input-263-90061cf6ff87>:29: DeprecationWarning: `np.int` is a deprecated alias for the builtin `int`. To silence this warning, use `int` by itself. Doing this will not modify any behavior and is safe. When replacing `np.int`, you may wish to use e.g. `np.int64` or `np.int32` to specify the precision. If you wish to review your current use, check the release note link for additional information.\n",
      "Deprecated in NumPy 1.20; for more details and guidance: https://numpy.org/devdocs/release/1.20.0-notes.html#deprecations\n",
      "  twelvth_bit=np.append(twelvth_bit,line[11]).astype(np.int)\n"
     ]
    }
   ],
   "source": [
    "#Declare Empty Numpy arrays for the bits in each line of our input\n",
    "first_bit = np.array([])\n",
    "second_bit = np.array([])\n",
    "third_bit = np.array([])\n",
    "fourth_bit = np.array([])\n",
    "fifth_bit = np.array([])\n",
    "sixth_bit = np.array([])\n",
    "seventh_bit = np.array([])\n",
    "eight_bit = np.array([])\n",
    "ninth_bit = np.array([])\n",
    "tenth_bit = np.array([])\n",
    "eleventh_bit = np.array([])\n",
    "twelvth_bit= np.array([])\n",
    "#Read input text and loop over them\n",
    "with open(\"input_day3.txt\", mode=\"r\") as file:\n",
    "    for line in file.readlines():\n",
    "        #Seperate bits into seperate arrays\n",
    "        first_bit = np.append(first_bit,line[0]).astype(np.int)\n",
    "        second_bit= np.append(second_bit,line[1]).astype(np.int)\n",
    "        third_bit= np.append(third_bit,line[2]).astype(np.int)\n",
    "        fourth_bit= np.append(fourth_bit,line[3]).astype(np.int)\n",
    "        fifth_bit= np.append(fifth_bit,line[4]).astype(np.int)\n",
    "        sixth_bit= np.append(sixth_bit,line[5]).astype(np.int)\n",
    "        seventh_bit= np.append(seventh_bit,line[6]).astype(np.int)\n",
    "        eight_bit=np.append(eight_bit,line[7]).astype(np.int)\n",
    "        ninth_bit=np.append(ninth_bit,line[8]).astype(np.int)\n",
    "        tenth_bit=np.append(tenth_bit,line[9]).astype(np.int)\n",
    "        eleventh_bit=np.append(eleventh_bit,line[10]).astype(np.int)\n",
    "        twelvth_bit=np.append(twelvth_bit,line[11]).astype(np.int)\n",
    "#Find the mean of all bits in the array        \n",
    "lst_mean = [np.mean(first_bit),np.mean(second_bit),np.mean(third_bit),np.mean(fourth_bit),np.mean(fifth_bit),\n",
    "            np.mean(sixth_bit),np.mean(seventh_bit),np.mean(eight_bit),np.mean(ninth_bit),np.mean(tenth_bit),\n",
    "            np.mean(eleventh_bit),np.mean(twelvth_bit)]"
   ]
  },
  {
   "cell_type": "code",
   "execution_count": 246,
   "id": "919904b2",
   "metadata": {},
   "outputs": [],
   "source": [
    "#if there are more on bits in the array than off bits, the mean will be closer to 1(i.e >0.5) and vice versa"
   ]
  },
  {
   "cell_type": "code",
   "execution_count": 264,
   "id": "4956e403",
   "metadata": {},
   "outputs": [],
   "source": [
    "#Function that gives the Gamma and Epsilon values using the mean of the arrays\n",
    "def gamma(mean_bits):\n",
    "    g =[]\n",
    "    num = 0\n",
    "    for x in mean_bits:\n",
    "        if x >= 0.5:\n",
    "            g.append(1)\n",
    "        else:\n",
    "            g.append(0)\n",
    "     #Convert Binary to decimal       \n",
    "    for bits in g:\n",
    "        num = 2 * num + bits\n",
    "    return num\n",
    "\n",
    "def epsilon(mean_bits):\n",
    "    e =[]\n",
    "    num = 0\n",
    "    for x in mean_bits:\n",
    "        if x <= 0.5:\n",
    "            e.append(1)\n",
    "        else:\n",
    "            e.append(0)\n",
    "    #Convert Binary to decimal  \n",
    "    for bits in e:\n",
    "        num = 2 * num + bits\n",
    "    return num"
   ]
  },
  {
   "cell_type": "code",
   "execution_count": 265,
   "id": "c50d791e",
   "metadata": {},
   "outputs": [
    {
     "data": {
      "text/plain": [
       "199"
      ]
     },
     "execution_count": 265,
     "metadata": {},
     "output_type": "execute_result"
    }
   ],
   "source": [
    "gamma(lst_mean)"
   ]
  },
  {
   "cell_type": "code",
   "execution_count": 266,
   "id": "262ee188",
   "metadata": {},
   "outputs": [
    {
     "data": {
      "text/plain": [
       "3896"
      ]
     },
     "execution_count": 266,
     "metadata": {},
     "output_type": "execute_result"
    }
   ],
   "source": [
    "epsilon(lst_mean)"
   ]
  },
  {
   "cell_type": "code",
   "execution_count": 267,
   "id": "6c37b61d",
   "metadata": {},
   "outputs": [
    {
     "name": "stdout",
     "output_type": "stream",
     "text": [
      "Power Consumption of the Submarine 775304\n"
     ]
    }
   ],
   "source": [
    "print(f\"Power Consumption of the Submarine {gamma(lst_mean) * epsilon(lst_mean)}\")"
   ]
  },
  {
   "cell_type": "markdown",
   "id": "a6d92370",
   "metadata": {},
   "source": [
    "### --- Part Two ---\n",
    "Next, you should verify the life support rating, which can be determined by multiplying the oxygen generator rating by the CO2 scrubber rating.\n",
    "\n",
    "Both the oxygen generator rating and the CO2 scrubber rating are values that can be found in your diagnostic report - finding them is the tricky part. Both values are located using a similar process that involves filtering out values until only one remains. Before searching for either rating value, start with the full list of binary numbers from your diagnostic report and consider just the first bit of those numbers. Then:\n",
    "\n",
    "Keep only numbers selected by the bit criteria for the type of rating value for which you are searching. Discard numbers which do not match the bit criteria.\n",
    "If you only have one number left, stop; this is the rating value for which you are searching.\n",
    "Otherwise, repeat the process, considering the next bit to the right.\n",
    "The bit criteria depends on which type of rating value you want to find:\n",
    "\n",
    "To find oxygen generator rating, determine the most common value (0 or 1) in the current bit position, and keep only numbers with that bit in that position. If 0 and 1 are equally common, keep values with a 1 in the position being considered.\n",
    "To find CO2 scrubber rating, determine the least common value (0 or 1) in the current bit position, and keep only numbers with that bit in that position. If 0 and 1 are equally common, keep values with a 0 in the position being considered.\n",
    "For example, to determine the oxygen generator rating value using the same example diagnostic report from above:\n",
    "\n",
    "Start with all 12 numbers and consider only the first bit of each number. There are more 1 bits (7) than 0 bits (5), so keep only the 7 numbers with a 1 in the first position: 11110, 10110, 10111, 10101, 11100, 10000, and 11001.\n",
    "Then, consider the second bit of the 7 remaining numbers: there are more 0 bits (4) than 1 bits (3), so keep only the 4 numbers with a 0 in the second position: 10110, 10111, 10101, and 10000.\\\n",
    "In the third position, three of the four numbers have a 1, so keep those three: 10110, 10111, and 10101.\\\n",
    "In the fourth position, two of the three numbers have a 1, so keep those two: 10110 and 10111.\\\n",
    "In the fifth position, there are an equal number of 0 bits and 1 bits (one each). So, to find the oxygen generator rating, keep the number with a 1 in that position: 10111.\\\n",
    "As there is only one number left, stop; the oxygen generator rating is 10111, or 23 in decimal.\\\n",
    "Then, to determine the CO2 scrubber rating value from the same example above:\n",
    "\n",
    "Start again with all 12 numbers and consider only the first bit of each number. There are fewer 0 bits (5) than 1 bits (7), so keep only the 5 numbers with a 0 in the first position: 00100, 01111, 00111, 00010, and 01010.\\\n",
    "Then, consider the second bit of the 5 remaining numbers: there are fewer 1 bits (2) than 0 bits (3), so keep only the 2 numbers with a 1 in the second position: 01111 and 01010.\\\n",
    "In the third position, there are an equal number of 0 bits and 1 bits (one each). So, to find the CO2 scrubber rating, keep the number with a 0 in that position: 01010.\\\n",
    "As there is only one number left, stop; the CO2 scrubber rating is 01010, or 10 in decimal.\\\n",
    "Finally, to find the life support rating, multiply the oxygen generator rating (23) by the CO2 scrubber rating (10) to get 230."
   ]
  },
  {
   "cell_type": "code",
   "execution_count": 252,
   "id": "8055b2f4",
   "metadata": {},
   "outputs": [],
   "source": [
    "#Use the binary numbers in your diagnostic report to calculate the oxygen generator rating and CO2 scrubber rating, then multiply them together. \n",
    "#What is the life support rating of the submarine?  (Be sure to represent your answer in decimal, not binary.)"
   ]
  }
 ],
 "metadata": {
  "kernelspec": {
   "display_name": "Python 3",
   "language": "python",
   "name": "python3"
  },
  "language_info": {
   "codemirror_mode": {
    "name": "ipython",
    "version": 3
   },
   "file_extension": ".py",
   "mimetype": "text/x-python",
   "name": "python",
   "nbconvert_exporter": "python",
   "pygments_lexer": "ipython3",
   "version": "3.8.8"
  }
 },
 "nbformat": 4,
 "nbformat_minor": 5
}
